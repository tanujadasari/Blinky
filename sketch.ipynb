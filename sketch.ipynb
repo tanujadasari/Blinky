{
 "cells": [
  {
   "cell_type": "code",
   "execution_count": 1,
   "metadata": {},
   "outputs": [
    {
     "data": {
      "text/plain": [
       "True"
      ]
     },
     "execution_count": 1,
     "metadata": {},
     "output_type": "execute_result"
    }
   ],
   "source": [
    "import numpy as np\n",
    "import imageio\n",
    "import scipy.ndimage\n",
    "import cv2\n",
    "\n",
    "img = \"MS.jpg\"\n",
    "\n",
    "def rgb2gray(rgb):\n",
    "    return np.dot(rgb[...,:3],[0.2989,0.5870,0.1140])\n",
    "    # it is 2 dimensional array formula to covert image to gray scale\n",
    "\n",
    "\n",
    "def dodge(front,back):\n",
    "    final_sketch=front*255/(255-back)\n",
    "    #if image is greater than 255 which i dont think is possible but still if it is thre will convert it to 255\n",
    "    final_sketch[final_sketch>255]=255\n",
    "    final_sketch[back==255]=255\n",
    "    #to convert any suitable existing column to categorical type we will accept function\n",
    "    #and uint8 is for 8-bit signed integer\n",
    "    return final_sketch.astype('uint8')\n",
    "\n",
    "\n",
    "ss = imageio.imread(img)  # to read the given image\n",
    "gray=rgb2gray(ss)#first we will image to black andwhite tat means gray scale\n",
    "\n",
    "i=255-gray #0,0,0 is for darkest colour and 255,255,255 is for brightest colour which is probably white colour\n",
    "\n",
    "#to convert in to blur image\n",
    "blur=scipy.ndimage.filters.gaussian_filter(i,sigma=15)\n",
    "#sigma is the intensity of blurness of image\n",
    "r=dodge(blur,gray)#this function wil convert our image to sketch by taking two parameters as blur and gray\n",
    "cv2.imwrite('MS_sketch.png',r)"
   ]
  },
  {
   "cell_type": "code",
   "execution_count": null,
   "metadata": {},
   "outputs": [],
   "source": []
  }
 ],
 "metadata": {
  "kernelspec": {
   "display_name": "Python 3",
   "language": "python",
   "name": "python3"
  },
  "language_info": {
   "codemirror_mode": {
    "name": "ipython",
    "version": 3
   },
   "file_extension": ".py",
   "mimetype": "text/x-python",
   "name": "python",
   "nbconvert_exporter": "python",
   "pygments_lexer": "ipython3",
   "version": "3.8.3"
  }
 },
 "nbformat": 4,
 "nbformat_minor": 4
}
